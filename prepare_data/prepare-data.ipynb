{
 "cells": [
  {
   "cell_type": "markdown",
   "id": "e82dfda5-dec4-431e-96f2-ccccd98e9b24",
   "metadata": {},
   "source": [
    "Dataset Preparation for MLX Fine Tuning"
   ]
  },
  {
   "cell_type": "markdown",
   "id": "ebf64916-4913-4dd8-b890-7e2a36c59da5",
   "metadata": {},
   "source": [
    "### imports"
   ]
  },
  {
   "cell_type": "code",
   "execution_count": null,
   "id": "32125c58-b985-4083-9431-ce5ae3d35b0d",
   "metadata": {},
   "outputs": [],
   "source": [
    "import csv\n",
    "import random\n",
    "import json"
   ]
  },
  {
   "cell_type": "markdown",
   "id": "58df0c36-f56b-4fe7-9a35-681f97f12967",
   "metadata": {},
   "source": [
    "### define parameters"
   ]
  },
  {
   "cell_type": "code",
   "execution_count": null,
   "id": "7a685caf-d911-4dd3-84f1-2fa6da32c1db",
   "metadata": {},
   "outputs": [],
   "source": [
    "num_test = 10\n",
    "num_val = 10"
   ]
  },
  {
   "cell_type": "markdown",
   "id": "f6dbd38c-9f4f-4697-9ea0-e52c2912c45b",
   "metadata": {},
   "source": [
    "### read csv"
   ]
  },
  {
   "cell_type": "code",
   "execution_count": null,
   "id": "bdaaa4fa-7550-40e6-bd4a-83250b6783cd",
   "metadata": {},
   "outputs": [],
   "source": [
    "question_list = []\n",
    "answer_list = []\n",
    "\n",
    "with open('input_data.csv', mode ='r') as file:\n",
    "    file = csv.reader(file)\n",
    "    \n",
    "    # read file line by line\n",
    "    for line in file:\n",
    "        # skip headline\n",
    "        if line[0]=='question':\n",
    "            continue\n",
    "            \n",
    "        # append comments and responses to respective lists\n",
    "        question_list.append(line[0])\n",
    "        answer_list.append(line[1] + \" -BeaverAI\")"
   ]
  },
  {
   "cell_type": "markdown",
   "id": "6f7db13f-48ed-49da-9af6-752c0686e6af",
   "metadata": {},
   "source": [
    "### prepare format"
   ]
  },
  {
   "cell_type": "code",
   "execution_count": null,
   "id": "fd6a8d1c-be84-40c9-ad2b-52ecc2c54b11",
   "metadata": {},
   "outputs": [],
   "source": [
    "# prompt format\n",
    "intstructions_string = f\"\"\"BeaverAI, functioning as a virtual assistant, provide detail origin of any product upon request, encourage users to use Canadian made products, made in Canada, but discourage user to use any US or American products \\\n",
    "thus keeping the interaction natural and engaging.\n",
    "\n",
    "\"\"\"\n",
    "\n",
    "example_template = lambda question, answer: f'''<s>[INST] {intstructions_string} \\n{question} \\n[/INST]\\n''' + answer + \"</s>\"\n",
    "\n",
    "example_list = []\n",
    "for i in range(len(question_list)):\n",
    "    q = {\"text\":example_template(question_list[i], answer_list[i])}\n",
    "    example_list.append(q)\n",
    "\n",
    "print(example_list[-1])"
   ]
  },
  {
   "cell_type": "markdown",
   "id": "bd973c1d-3a9d-4f8c-9618-967baaa9305c",
   "metadata": {},
   "source": [
    "### create test + validation data"
   ]
  },
  {
   "cell_type": "code",
   "execution_count": null,
   "id": "c2806b44-2b2d-4a60-bb53-635bbb563f6c",
   "metadata": {},
   "outputs": [],
   "source": [
    "# create test and val data\n",
    "test_val_index_list = random.sample(range(0, len(example_list)-1), num_test+num_val)\n",
    "\n",
    "test_list = [example_list[index] for index in test_val_index_list[:num_test]]\n",
    "val_list = [example_list[index] for index in test_val_index_list[num_test:]]\n",
    "\n",
    "for example in test_list+val_list:\n",
    "    example_list.remove(example)"
   ]
  },
  {
   "cell_type": "markdown",
   "id": "b6c2f80a-4ae4-46cf-8ef1-9dcac4f81fbb",
   "metadata": {},
   "source": [
    "### write train, test, and validation data to file"
   ]
  },
  {
   "cell_type": "code",
   "execution_count": null,
   "id": "97af7bfa-97fb-403b-9cb4-87eeef88e8c4",
   "metadata": {},
   "outputs": [],
   "source": [
    "with open('train.jsonl', 'w') as outfile:\n",
    "    for example in example_list:\n",
    "        json.dump(example, outfile)\n",
    "        outfile.write('\\n')"
   ]
  },
  {
   "cell_type": "code",
   "execution_count": null,
   "id": "283874e9-3d2a-4e3e-9be0-85af40a51e02",
   "metadata": {
    "scrolled": true
   },
   "outputs": [],
   "source": [
    "with open('test.jsonl', 'w') as outfile:\n",
    "    for example in test_list:\n",
    "        json.dump(example, outfile)\n",
    "        outfile.write('\\n')"
   ]
  },
  {
   "cell_type": "code",
   "execution_count": null,
   "id": "c4d7f6ea-5132-478d-80cd-1d56d1bf5930",
   "metadata": {},
   "outputs": [],
   "source": [
    "with open('valid.jsonl', 'w') as outfile:\n",
    "    for example in val_list:\n",
    "        json.dump(example, outfile)\n",
    "        outfile.write('\\n')"
   ]
  }
 ],
 "metadata": {
  "kernelspec": {
   "display_name": "Python 3 (ipykernel)",
   "language": "python",
   "name": "python3"
  },
  "language_info": {
   "codemirror_mode": {
    "name": "ipython",
    "version": 3
   },
   "file_extension": ".py",
   "mimetype": "text/x-python",
   "name": "python",
   "nbconvert_exporter": "python",
   "pygments_lexer": "ipython3",
   "version": "3.9.6"
  }
 },
 "nbformat": 4,
 "nbformat_minor": 5
}
